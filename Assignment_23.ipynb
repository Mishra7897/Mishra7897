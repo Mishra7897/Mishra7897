{
 "cells": [
  {
   "cell_type": "code",
   "execution_count": 31,
   "id": "02d0df19",
   "metadata": {},
   "outputs": [],
   "source": [
    "def fun(a, b= 8,c=5):\n",
    "    \"\"\"While calling this function will print all the arguments passed but as we've assign the value of a =1 and b = 2 while \n",
    "    calling the function so value of b will change to 2 and 1 will be assigned to a.Also we'll get value of c though we've not\n",
    "    called c and we're printing the value of c\n",
    "    \"\"\"\n",
    "    print(a,b,c)"
   ]
  },
  {
   "cell_type": "code",
   "execution_count": 32,
   "id": "966f3254",
   "metadata": {},
   "outputs": [
    {
     "name": "stdout",
     "output_type": "stream",
     "text": [
      "1 2 5\n"
     ]
    }
   ],
   "source": [
    "fun(1,2)"
   ]
  },
  {
   "cell_type": "code",
   "execution_count": 34,
   "id": "8f5cd538",
   "metadata": {},
   "outputs": [],
   "source": [
    "def fun(a,b, c= 5):\n",
    "    print(a,b,c)"
   ]
  },
  {
   "cell_type": "code",
   "execution_count": 38,
   "id": "2c50bbf3",
   "metadata": {},
   "outputs": [
    {
     "name": "stdout",
     "output_type": "stream",
     "text": [
      "1 3 2\n"
     ]
    }
   ],
   "source": [
    "fun(1,c=3,b=2)"
   ]
  },
  {
   "cell_type": "code",
   "execution_count": 7,
   "id": "93176cd7",
   "metadata": {},
   "outputs": [],
   "source": [
    "def fun(a, *pargs):\n",
    "    \"\"\"In this code we're passing one argument as a & *pargs which means n number of arguments and while calling the \n",
    "    function we're passing (1,2,3) automatically 1 is getting assigned to a & 2,3 is assigned to *pargs as it can take \n",
    "    n number of arguments\n",
    "    \"\"\"\n",
    "    print(a, pargs)"
   ]
  },
  {
   "cell_type": "code",
   "execution_count": 8,
   "id": "cd68f53b",
   "metadata": {},
   "outputs": [
    {
     "name": "stdout",
     "output_type": "stream",
     "text": [
      "1 (2, 3)\n"
     ]
    }
   ],
   "source": [
    "fun(1,2,3)"
   ]
  },
  {
   "cell_type": "code",
   "execution_count": 9,
   "id": "dacf530d",
   "metadata": {},
   "outputs": [],
   "source": [
    "def fun(a, **kwargs):\n",
    "    \"\"\" In this code we've assigned a value of a =1, and c= 3, b =2 but we've passed ** which means it'll print values in \n",
    "    key value pair\n",
    "    \"\"\"\n",
    "    print(a, kwargs)"
   ]
  },
  {
   "cell_type": "code",
   "execution_count": 10,
   "id": "755290eb",
   "metadata": {},
   "outputs": [
    {
     "name": "stdout",
     "output_type": "stream",
     "text": [
      "1 {'c': 3, 'b': 2}\n"
     ]
    }
   ],
   "source": [
    "fun(a=1,c=3,b=2)"
   ]
  },
  {
   "cell_type": "code",
   "execution_count": 15,
   "id": "56481005",
   "metadata": {},
   "outputs": [],
   "source": [
    "def func(a,b,c=8,d=5):\n",
    "    \"\"\" In this code we've passed five arguments and we've assigned the value of c and d while calling the func we 1 is assigned \n",
    "    to a and we've used * so it's taking n number of arguments also 5 will be assigned to b and for c new value has been assigned \n",
    "    for d value will remain same\n",
    "    \"\"\"\n",
    "    print(a,b,c,d)"
   ]
  },
  {
   "cell_type": "code",
   "execution_count": 14,
   "id": "5c5cb85e",
   "metadata": {},
   "outputs": [
    {
     "name": "stdout",
     "output_type": "stream",
     "text": [
      "1 5 6 5\n"
     ]
    }
   ],
   "source": [
    "func(1,*(5,6))"
   ]
  },
  {
   "cell_type": "code",
   "execution_count": 9,
   "id": "a090369d",
   "metadata": {},
   "outputs": [],
   "source": [
    "def func(a,b,c):\n",
    "    a=2;\n",
    "    b[0]='x';\n",
    "    c ['a']='y'\n",
    "    l = 1;\n",
    "    m=[1];\n",
    "    n={'a':0}"
   ]
  },
  {
   "cell_type": "code",
   "execution_count": 10,
   "id": "2e133356",
   "metadata": {},
   "outputs": [
    {
     "ename": "NameError",
     "evalue": "name 'l' is not defined",
     "output_type": "error",
     "traceback": [
      "\u001b[1;31m---------------------------------------------------------------------------\u001b[0m",
      "\u001b[1;31mNameError\u001b[0m                                 Traceback (most recent call last)",
      "\u001b[1;32m~\\AppData\\Local\\Temp/ipykernel_16584/3096383026.py\u001b[0m in \u001b[0;36m<module>\u001b[1;34m\u001b[0m\n\u001b[1;32m----> 1\u001b[1;33m \u001b[0mfunc\u001b[0m\u001b[1;33m(\u001b[0m\u001b[0ml\u001b[0m\u001b[1;33m,\u001b[0m\u001b[0mm\u001b[0m\u001b[1;33m,\u001b[0m\u001b[0mn\u001b[0m\u001b[1;33m)\u001b[0m\u001b[1;33m\u001b[0m\u001b[1;33m\u001b[0m\u001b[0m\n\u001b[0m",
      "\u001b[1;31mNameError\u001b[0m: name 'l' is not defined"
     ]
    }
   ],
   "source": [
    "func(l,m,n)"
   ]
  },
  {
   "cell_type": "code",
   "execution_count": 3,
   "id": "6b0b8950",
   "metadata": {},
   "outputs": [
    {
     "ename": "NameError",
     "evalue": "name 'l' is not defined",
     "output_type": "error",
     "traceback": [
      "\u001b[1;31m---------------------------------------------------------------------------\u001b[0m",
      "\u001b[1;31mNameError\u001b[0m                                 Traceback (most recent call last)",
      "\u001b[1;32m~\\AppData\\Local\\Temp/ipykernel_16584/2186131529.py\u001b[0m in \u001b[0;36m<module>\u001b[1;34m\u001b[0m\n\u001b[1;32m----> 1\u001b[1;33m \u001b[0ml\u001b[0m\u001b[1;33m,\u001b[0m\u001b[0mm\u001b[0m\u001b[1;33m,\u001b[0m\u001b[0mn\u001b[0m\u001b[1;33m\u001b[0m\u001b[1;33m\u001b[0m\u001b[0m\n\u001b[0m",
      "\u001b[1;31mNameError\u001b[0m: name 'l' is not defined"
     ]
    }
   ],
   "source": [
    "l,m,n"
   ]
  },
  {
   "cell_type": "code",
   "execution_count": null,
   "id": "c250cef5",
   "metadata": {},
   "outputs": [],
   "source": []
  }
 ],
 "metadata": {
  "kernelspec": {
   "display_name": "Python 3 (ipykernel)",
   "language": "python",
   "name": "python3"
  },
  "language_info": {
   "codemirror_mode": {
    "name": "ipython",
    "version": 3
   },
   "file_extension": ".py",
   "mimetype": "text/x-python",
   "name": "python",
   "nbconvert_exporter": "python",
   "pygments_lexer": "ipython3",
   "version": "3.9.7"
  }
 },
 "nbformat": 4,
 "nbformat_minor": 5
}
