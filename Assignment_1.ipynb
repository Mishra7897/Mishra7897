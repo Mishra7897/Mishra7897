{
 "cells": [
  {
   "cell_type": "markdown",
   "id": "38985c4b",
   "metadata": {},
   "source": [
    "1. In the below elements which of them are values or an expression? eg:- values can be\n",
    "integer or string and expressions will be mathematical operators.\n",
    "*\n",
    "\n",
    "'hello'\n",
    "\n",
    "-87.8\n",
    "-\n",
    "/\n",
    "\n",
    "+\n",
    "\n",
    "Solution: Here 'hello', -87.8 is a value and *, -,/, + are expression. "
   ]
  },
  {
   "cell_type": "code",
   "execution_count": null,
   "id": "76484939",
   "metadata": {},
   "outputs": [],
   "source": [
    "2. What is the difference between string and variable?\n",
    "\n",
    "Answer  :  String : String can be written in quotes, for example : \"Aditya\", 'Mishra'\n",
    "            \n",
    "           Variable : Variable is location where we store the data. "
   ]
  },
  {
   "cell_type": "code",
   "execution_count": null,
   "id": "1dd6b5a1",
   "metadata": {},
   "outputs": [],
   "source": [
    "3. Describe three different data types.\n",
    "\n",
    "Answer : List of different data types : \n",
    "        \n",
    "        1. int : This is used for storing only numerical values.\n",
    "        2. Float : This is used for storing only floating values for example : 22.1, 22.2\n",
    "        3. String : This can used for storing sequence of characters for example : \"Aditya\", \"77\""
   ]
  },
  {
   "cell_type": "code",
   "execution_count": null,
   "id": "ecc033a3",
   "metadata": {},
   "outputs": [],
   "source": [
    "4. What is an expression made up of? What do all expressions do?\n",
    "\n",
    "Answer : An experession is a combination of values, variable and operators. Expression evaluates the values."
   ]
  },
  {
   "cell_type": "code",
   "execution_count": null,
   "id": "f2ab17b6",
   "metadata": {},
   "outputs": [],
   "source": [
    "5. This assignment statements, like spam = 10. What is the difference between an\n",
    "expression and a statement?\n",
    "\n",
    "Answer : Expression is a combination of values, variables and operator. It's used for evaluating a values.\n"
   ]
  },
  {
   "cell_type": "code",
   "execution_count": null,
   "id": "bcf4a650",
   "metadata": {},
   "outputs": [],
   "source": [
    "6. After running the following code, what does the variable bacon contain?\n",
    "bacon = 22\n",
    "bacon + 1\n",
    "\n",
    "Solution : This will return 23"
   ]
  },
  {
   "cell_type": "code",
   "execution_count": null,
   "id": "33f803b5",
   "metadata": {},
   "outputs": [],
   "source": [
    "7. What should the values of the following two terms be?\n",
    "'spam' + 'spamspam' \n",
    "'spam' * 3 \n",
    "\n",
    "Solution : 'spamspamspam'"
   ]
  },
  {
   "cell_type": "code",
   "execution_count": null,
   "id": "848053b8",
   "metadata": {},
   "outputs": [],
   "source": [
    "8. Why is eggs a valid variable name while 100 is invalid?\n",
    "\n",
    "Answer : eggs is a valid name and 100 is invalid because variable name cannot begin with a number as 100 is an integer."
   ]
  },
  {
   "cell_type": "code",
   "execution_count": null,
   "id": "1193286a",
   "metadata": {},
   "outputs": [],
   "source": [
    "9. What three functions can be used to get the integer, floating-point number, or string\n",
    "version of a value?\n",
    " \n",
    "Answer: For an interger we use int()\n",
    "        For floating point number we use float()\n",
    "        For string we use str()"
   ]
  },
  {
   "cell_type": "code",
   "execution_count": null,
   "id": "650404ff",
   "metadata": {},
   "outputs": [],
   "source": [
    "10. Why does this expression cause an error? How can you fix it?\n",
    "'I have eaten' + 99 +'burritos.'\n",
    "\n",
    "Solution : 99 is an integer, so if we have to do concatenation of this expression we've to do typecasting. \n",
    "    for example :  'I have eaten' + str(99) + 'burittos.'"
   ]
  }
 ],
 "metadata": {
  "kernelspec": {
   "display_name": "Python 3 (ipykernel)",
   "language": "python",
   "name": "python3"
  },
  "language_info": {
   "codemirror_mode": {
    "name": "ipython",
    "version": 3
   },
   "file_extension": ".py",
   "mimetype": "text/x-python",
   "name": "python",
   "nbconvert_exporter": "python",
   "pygments_lexer": "ipython3",
   "version": "3.9.7"
  }
 },
 "nbformat": 4,
 "nbformat_minor": 5
}
